{
 "cells": [
  {
   "cell_type": "code",
   "execution_count": 1,
   "id": "ae14ca39-72f5-4b33-9000-3d164fa2fc23",
   "metadata": {},
   "outputs": [],
   "source": [
    "import os\n",
    "import sqlite3"
   ]
  },
  {
   "cell_type": "code",
   "execution_count": 2,
   "id": "9d040156-7c57-4119-8e72-73432b8ad497",
   "metadata": {},
   "outputs": [],
   "source": [
    "'''\n",
    "一共 3 個 DB\n",
    "1. 存 NER 結果\n",
    "2. 存 POS 結果\n",
    "3. 存 RE 結果: 含網址、Email、Username、(行動、市內)電話、IP\n",
    "'''\n",
    "\n",
    "db_files = [\n",
    "    \"JudicialAnalysis_NER.db\",\n",
    "    \"JudicialAnalysis_POS.db\",\n",
    "    \"JudicialAnalysis_RE.db\",\n",
    "    \"JudicialAnalysis_R_NER.db\",\n",
    "    \"JudicialAnalysis_R_POS.db\",\n",
    "    \"JudicialAnalysis_R_RE.db\",\n",
    "]\n",
    "\n",
    "db_handler = dict()\n",
    "\n",
    "for db_file in db_files:\n",
    "    con_temp = sqlite3.connect(db_file)\n",
    "    cur_temp = con_temp.cursor()\n",
    "\n",
    "    db_handler.setdefault(db_file, dict())\n",
    "    \n",
    "    db_handler[db_file]['con'] = con_temp\n",
    "    db_handler[db_file]['cur'] = cur_temp\n",
    "\n"
   ]
  },
  {
   "cell_type": "code",
   "execution_count": 3,
   "id": "20a87833-bbf7-40a0-8519-de3b9aaf1372",
   "metadata": {},
   "outputs": [
    {
     "data": {
      "text/plain": [
       "[('刑事訴訟法', 125043),\n",
       " ('刑法', 88124),\n",
       " ('毒品危害防制條例', 47964),\n",
       " ('第449條', 29951),\n",
       " ('洗錢防制法', 28894),\n",
       " ('第451條', 24892),\n",
       " ('詐欺', 18558),\n",
       " ('公共危險', 18243),\n",
       " ('竊盜', 14532),\n",
       " ('刑事訴訟法第159條', 11362),\n",
       " ('過失傷害', 11274),\n",
       " ('中華民國刑法第339條', 9339),\n",
       " ('刑事訴訟法第299條', 8612),\n",
       " ('被害人告訴人', 8508),\n",
       " ('陸海空軍刑法', 8122),\n",
       " ('第477條', 7950),\n",
       " ('施用毒品', 7913),\n",
       " ('於本', 7382),\n",
       " ('中華民國刑法第185條', 7348),\n",
       " ('第299', 6935)]"
      ]
     },
     "execution_count": 3,
     "metadata": {},
     "output_type": "execute_result"
    }
   ],
   "source": [
    "# 統計所有的 Crime\n",
    "crimes = dict()\n",
    "\n",
    "for db_file, db_handkle in db_handler.items():\n",
    "    if 'RE' in db_file:\n",
    "        check_res = db_handkle['con'].execute(f\"SELECT keywords FROM results WHERE keyword_type = 'crimes'\")\n",
    "        temp = check_res.fetchone()\n",
    "        while temp:\n",
    "            keys = temp[0].strip().split(',')\n",
    "            for key in keys:\n",
    "                crimes.setdefault(key, 0)\n",
    "                crimes[key] += 1\n",
    "            temp = check_res.fetchone()\n",
    "    if 'NER' in db_file:\n",
    "        check_res = db_handkle['con'].execute(f\"SELECT keywords FROM results WHERE keyword_type = 'LAW'\")\n",
    "        temp = check_res.fetchone()\n",
    "        while temp:\n",
    "            keys = temp[0].strip().split(',')\n",
    "            for key in keys:\n",
    "                crimes.setdefault(key, 0)\n",
    "                crimes[key] += 1\n",
    "            temp = check_res.fetchone()\n",
    "crimes_sort = sorted(crimes.items(), key =lambda x : x[1],reverse=True)\n",
    "crimes_sort[:20] "
   ]
  },
  {
   "cell_type": "code",
   "execution_count": 4,
   "id": "4d631d18-348e-4c7e-b553-4c57093b12c7",
   "metadata": {},
   "outputs": [
    {
     "data": {
      "text/plain": [
       "150036"
      ]
     },
     "execution_count": 4,
     "metadata": {},
     "output_type": "execute_result"
    }
   ],
   "source": [
    "len(crimes_sort)"
   ]
  },
  {
   "cell_type": "code",
   "execution_count": 5,
   "id": "14552be4-c3f5-4ce3-904d-370632938699",
   "metadata": {},
   "outputs": [],
   "source": [
    "'''\n",
    "> 準備整理資料\n",
    "[edge]\n",
    "1. crime <-> id\n",
    "2. crime <-> keyword (按月份存放)\n",
    "3. filter crime count keyword\n",
    "'''\n",
    "\n",
    "con_crime_id = sqlite3.connect('Orgnize_Crime_ID.db')\n",
    "cur_crime_id = con_crime_id.cursor()\n",
    "\n",
    "con_crime_key = sqlite3.connect('Orgnize_Crime_Key.db')\n",
    "cur_crime_key = con_crime_key.cursor()"
   ]
  },
  {
   "cell_type": "code",
   "execution_count": 6,
   "id": "ede78b47-0306-44a1-b756-0bc6b53b369d",
   "metadata": {},
   "outputs": [],
   "source": [
    "# 創建 Table\n",
    "new = 1\n",
    "if new:\n",
    "    cur_crime_id.execute(\"CREATE TABLE results(jid, crime, month)\")\n",
    "    con_crime_id.commit()\n",
    "\n",
    "    cur_crime_key.execute(\"CREATE TABLE results(crime, keyword, month)\")\n",
    "    con_crime_key.commit()"
   ]
  },
  {
   "cell_type": "code",
   "execution_count": 7,
   "id": "9ea46cb7-2754-4b82-b94c-5c75a7077f8f",
   "metadata": {},
   "outputs": [],
   "source": [
    "# 整理 crime <-> id\n",
    "for db_file, db_handkle in db_handler.items():\n",
    "    if 'RE' in db_file:\n",
    "        check_res = db_handkle['con'].execute(f\"SELECT * FROM results WHERE keyword_type = 'crimes'\")\n",
    "        temp = check_res.fetchone()\n",
    "        while temp:\n",
    "            temp_jid = temp[0].strip()\n",
    "            temp_month = temp[1].strip()[:7]\n",
    "            keys = temp[3].strip().split(',')\n",
    "            for key in keys:\n",
    "                # jid, crime, month\n",
    "                to_db_content = \"INSERT INTO results VALUES(?, ?, ?)\" # ? 是一個參數占位符，代表將要插入的值。\n",
    "                cur_crime_id.execute(to_db_content, (temp_jid, key, temp_month))\n",
    "            temp = check_res.fetchone()\n",
    "        con_crime_id.commit()\n",
    "    if 'NER' in db_file:\n",
    "        check_res = db_handkle['con'].execute(f\"SELECT * FROM results WHERE keyword_type = 'LAW'\")\n",
    "        temp = check_res.fetchone()\n",
    "        while temp:\n",
    "            temp_jid = temp[0].strip()\n",
    "            temp_month = temp[1].strip()[:7]\n",
    "            keys = temp[3].strip().split(',')\n",
    "            for key in keys:\n",
    "                # jid, crime, month\n",
    "                to_db_content = \"INSERT INTO results VALUES(?, ?, ?)\" # ? 是一個參數占位符，代表將要插入的值。\n",
    "                cur_crime_id.execute(to_db_content, (temp_jid, key, temp_month))\n",
    "            temp = check_res.fetchone()\n",
    "        con_crime_id.commit()\n",
    "con_crime_id.commit()\n",
    "con_crime_id.close()"
   ]
  },
  {
   "cell_type": "code",
   "execution_count": 9,
   "id": "31026160-df60-4d82-a502-4aa80055fe57",
   "metadata": {},
   "outputs": [],
   "source": [
    "# 讀取用再次開啟\n",
    "con_crime_id = sqlite3.connect('Orgnize_Crime_ID.db')\n",
    "cur_crime_id = con_crime_id.cursor()"
   ]
  },
  {
   "cell_type": "code",
   "execution_count": 11,
   "id": "a0a3d3fc-253f-45db-bbcb-9a0385cb5431",
   "metadata": {},
   "outputs": [
    {
     "name": "stdout",
     "output_type": "stream",
     "text": [
      "86241\n"
     ]
    }
   ],
   "source": [
    "# 先找到所有跟詐欺、洗錢有關的案件 jid\n",
    "fraud_jids = dict()\n",
    "fraud_keys = ['詐', '339', '洗錢']\n",
    "\n",
    "check_res = cur_crime_id.execute(f\"SELECT * FROM results\")\n",
    "temp = check_res.fetchone()\n",
    "total_count = 0\n",
    "while temp:\n",
    "    # jid, crime, month\n",
    "    temp_jid = temp[0].strip()\n",
    "    temp_crime = temp[1].strip()\n",
    "    temp_month = temp[2].strip()\n",
    "\n",
    "    temp_match_count = 0\n",
    "    for fk in fraud_keys:\n",
    "        if fk in temp_crime:\n",
    "            temp_match_count += 1\n",
    "    if temp_match_count:\n",
    "        fraud_jids.setdefault(temp_month, set())\n",
    "        fraud_jids[temp_month].add(temp_jid)\n",
    "        total_count += 1 \n",
    "    \n",
    "    temp = check_res.fetchone()\n",
    "print(total_count)"
   ]
  },
  {
   "cell_type": "code",
   "execution_count": 16,
   "id": "f134c512-e741-4f3c-86e9-ce605bd910d5",
   "metadata": {},
   "outputs": [
    {
     "name": "stdout",
     "output_type": "stream",
     "text": [
      ">>正在分析: 2023-10 的資料\n",
      ">>目前進度: 1993/1993\n",
      ">>累積數量: 23345044\n"
     ]
    }
   ],
   "source": [
    "# 找詐欺的 keys\n",
    "from IPython.display import clear_output\n",
    "\n",
    "fraud_key_dicts = dict()\n",
    "count = 0\n",
    "\n",
    "for temp_month, month_jids in fraud_jids.items():\n",
    "    temp_total = len(month_jids)\n",
    "    #month_jids = list(month_jids)\n",
    "    #month_jids.sort()\n",
    "    for idx, mjid in enumerate(month_jids):\n",
    "        clear_output()\n",
    "        print(f'>>正在分析: {temp_month} 的資料')\n",
    "        print(f'>>目前進度: {idx+1}/{temp_total}')\n",
    "        print(f'>>累積數量: {count}')\n",
    "\n",
    "        fraud_key_dicts.setdefault(temp_month, dict())\n",
    "        \n",
    "        for db_file, db_handkle in db_handler.items():\n",
    "            check_res = db_handkle['con'].execute(f\"SELECT jid, date, keyword_type, keywords FROM results WHERE jid='{mjid}'\")\n",
    "            rows = check_res.fetchall()\n",
    "            for row in rows:\n",
    "                date = row[1].strip()\n",
    "                k_type = row[2].strip()\n",
    "                key_words = row[3].strip().split(',')\n",
    "                \n",
    "                fraud_key_dicts[temp_month].setdefault(k_type, dict())\n",
    "                \n",
    "                for temp_key in key_words:\n",
    "                    temp_key = temp_key.strip()\n",
    "                    fraud_key_dicts[temp_month][k_type].setdefault(temp_key, 0)\n",
    "                    fraud_key_dicts[temp_month][k_type][temp_key] += 1\n",
    "                    count += 1"
   ]
  },
  {
   "cell_type": "code",
   "execution_count": 19,
   "id": "e1526ef1-ba2d-4e1b-bdbe-6cf4b72bc0a0",
   "metadata": {},
   "outputs": [],
   "source": [
    "# 將關鍵字存下來\n",
    "\n",
    "import pandas as pd\n",
    "\n",
    "columns = ['month', 'type', 'keyword', 'frequence']\n",
    "\n",
    "\n",
    "for temp_month, keywords_data in fraud_key_dicts.items():\n",
    "    rows = []\n",
    "    for k_type, keywords in keywords_data.items():\n",
    "        keywords_list = sorted(keywords.items(), key=lambda x:x[1], reverse=True)\n",
    "        for (kl, freq) in keywords_list:\n",
    "            row = [temp_month, k_type, kl, freq]\n",
    "            rows.append(row)\n",
    "\n",
    "    df = pd.DataFrame(rows, columns=columns)\n",
    "    \n",
    "    file = f'fraud_freq_keywords({temp_month}).csv'\n",
    "    \n",
    "    df.to_csv(file, index=False)"
   ]
  },
  {
   "cell_type": "code",
   "execution_count": null,
   "id": "44f8c283-9a4a-4622-a3a9-3e1982a7e8f9",
   "metadata": {},
   "outputs": [],
   "source": [
    "con_Fraud.close()"
   ]
  },
  {
   "cell_type": "code",
   "execution_count": 30,
   "id": "8844246d-44e9-4282-8bd7-6d378abcf647",
   "metadata": {},
   "outputs": [],
   "source": [
    "# 將關鍵字按類型存成 xlsx\n",
    "import pandas as pd\n",
    "\n",
    "columns = ['關鍵字詞', '出現次數']\n",
    "\n",
    "for k_type, keywords in fraud_key_dicts.items():\n",
    "    rows = []\n",
    "    \n",
    "    keywords_list = sorted(keywords.items(), key=lambda x:x[1], reverse=True)\n",
    "    for (kl, freq) in keywords_list:\n",
    "        row = [kl, freq]\n",
    "        rows.append(row)\n",
    "        \n",
    "    \n",
    "    df = pd.DataFrame(rows, columns=columns)\n",
    "    \n",
    "    xlsx_file = f'fraud({k_type}).xlsx'\n",
    "    df.to_excel(xlsx_file)"
   ]
  },
  {
   "cell_type": "code",
   "execution_count": null,
   "id": "87770ad4-8fb5-40bc-98c4-6288fb17d3d3",
   "metadata": {},
   "outputs": [],
   "source": []
  }
 ],
 "metadata": {
  "kernelspec": {
   "display_name": "Python 3 (ipykernel)",
   "language": "python",
   "name": "python3"
  },
  "language_info": {
   "codemirror_mode": {
    "name": "ipython",
    "version": 3
   },
   "file_extension": ".py",
   "mimetype": "text/x-python",
   "name": "python",
   "nbconvert_exporter": "python",
   "pygments_lexer": "ipython3",
   "version": "3.9.18"
  }
 },
 "nbformat": 4,
 "nbformat_minor": 5
}
