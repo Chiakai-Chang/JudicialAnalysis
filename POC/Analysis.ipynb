{
 "cells": [
  {
   "cell_type": "code",
   "execution_count": 1,
   "id": "ae14ca39-72f5-4b33-9000-3d164fa2fc23",
   "metadata": {},
   "outputs": [],
   "source": [
    "import os\n",
    "import sqlite3"
   ]
  },
  {
   "cell_type": "code",
   "execution_count": 2,
   "id": "9d040156-7c57-4119-8e72-73432b8ad497",
   "metadata": {},
   "outputs": [],
   "source": [
    "'''\n",
    "一共開 3 個 DB\n",
    "1. 存 NER 結果\n",
    "2. 存 POS 結果\n",
    "3. 存 RE 結果: 含網址、Email、Username、(行動、市內)電話、IP\n",
    "'''\n",
    "\n",
    "con_NER = sqlite3.connect(\"JudicialAnalysis_NER.db\")\n",
    "cur_NER = con_NER.cursor()\n",
    "\n",
    "con_POS = sqlite3.connect(\"JudicialAnalysis_POS.db\")\n",
    "cur_POS = con_POS.cursor()\n",
    "\n",
    "con_RE = sqlite3.connect(\"JudicialAnalysis_RE.db\")\n",
    "cur_RE = con_RE.cursor()\n"
   ]
  },
  {
   "cell_type": "code",
   "execution_count": 7,
   "id": "20a87833-bbf7-40a0-8519-de3b9aaf1372",
   "metadata": {},
   "outputs": [],
   "source": [
    "# 統計所有的 Crime\n",
    "crimes = dict()\n",
    "check_res = con_RE.execute(f\"SELECT keywords FROM results\")\n",
    "temp = check_res.fetchone()\n",
    "while temp:\n",
    "    keys = temp[0].strip().split(',')\n",
    "    for key in keys:\n",
    "        crimes.setdefault(key, 0)\n",
    "        crimes[key] += 1\n",
    "    temp = check_res.fetchone()\n",
    "        "
   ]
  },
  {
   "cell_type": "code",
   "execution_count": 10,
   "id": "4d631d18-348e-4c7e-b553-4c57093b12c7",
   "metadata": {},
   "outputs": [
    {
     "data": {
      "text/plain": [
       "[('Z000000000', 7825),\n",
       " ('毒品危害防制條例', 5466),\n",
       " ('公共危險', 4596),\n",
       " ('詐欺', 4202),\n",
       " ('洗錢防制法', 3686),\n",
       " ('LINE', 3655),\n",
       " ('竊盜', 3470),\n",
       " ('過失傷害', 2755),\n",
       " ('被害人告訴人', 2252),\n",
       " ('施用毒品', 1822),\n",
       " ('於本', 1557),\n",
       " ('傷害', 1402),\n",
       " ('SIM', 1046),\n",
       " ('就本', 817),\n",
       " ('ATM', 688),\n",
       " ('偽造文書', 645),\n",
       " ('妨害自由', 641),\n",
       " ('前施用毒品', 632),\n",
       " ('IMEI', 567),\n",
       " ('為本', 487)]"
      ]
     },
     "execution_count": 10,
     "metadata": {},
     "output_type": "execute_result"
    }
   ],
   "source": [
    "crimes_sort = sorted(crimes.items(), key =lambda x : x[1],reverse=True)\n",
    "crimes_sort[:20]"
   ]
  },
  {
   "cell_type": "code",
   "execution_count": 12,
   "id": "9ea46cb7-2754-4b82-b94c-5c75a7077f8f",
   "metadata": {},
   "outputs": [
    {
     "name": "stdout",
     "output_type": "stream",
     "text": [
      ">>總共:5286\n"
     ]
    },
    {
     "data": {
      "text/plain": [
       "['CHDM,110,易,451,20230131,1',\n",
       " 'CHDM,110,訴,1011,20230131,2',\n",
       " 'CHDM,110,訴,1064,20230112,2',\n",
       " 'CHDM,110,訴,602,20230203,1',\n",
       " 'CHDM,110,訴,658,20230221,1',\n",
       " 'CHDM,110,訴,879,20230203,1',\n",
       " 'CHDM,110,訴,936,20230109,1',\n",
       " 'CHDM,110,附民,151,20230131,1',\n",
       " 'CHDM,110,附民,296,20230109,1',\n",
       " 'CHDM,110,附民,305,20230109,1',\n",
       " 'CHDM,110,附民,306,20230109,1',\n",
       " 'CHDM,110,附民,324,20230109,1',\n",
       " 'CHDM,110,附民,325,20230109,1',\n",
       " 'CHDM,110,附民,352,20230109,1',\n",
       " 'CHDM,111,原訴,18,20230215,2',\n",
       " 'CHDM,111,原訴,25,20230111,1',\n",
       " 'CHDM,111,原訴,34,20230131,1',\n",
       " 'CHDM,111,原附民,14,20230119,1',\n",
       " 'CHDM,111,撤緩,99,20230210,1',\n",
       " 'CHDM,111,易,1091,20230110,1']"
      ]
     },
     "execution_count": 12,
     "metadata": {},
     "output_type": "execute_result"
    }
   ],
   "source": [
    "# 找出所有與詐欺有關的裁判書\n",
    "\n",
    "fraud_jids = set()\n",
    "check_res = con_RE.execute(f\"SELECT jid, keywords FROM results\")\n",
    "temp = check_res.fetchone()\n",
    "while temp:\n",
    "    raw = temp[1].strip()\n",
    "    jid = temp[0].strip()\n",
    "    if '詐欺' in raw:\n",
    "        fraud_jids.add(jid)\n",
    "    temp = check_res.fetchone()\n",
    "fraud_jids = list(fraud_jids)\n",
    "fraud_jids.sort()\n",
    "print(f'>>總共:{len(fraud_jids)}')\n",
    "fraud_jids[:20]"
   ]
  },
  {
   "cell_type": "code",
   "execution_count": 28,
   "id": "11dba10e-18f3-485b-9603-67470c535167",
   "metadata": {},
   "outputs": [],
   "source": [
    "'''\n",
    "找出所有與詐欺有關的各類關鍵字\n",
    "'''\n",
    "\n",
    "con_Fraud = sqlite3.connect(\"JudicialAnalysis_Fraud.db\")\n",
    "cur_Fraud = con_Fraud.cursor()\n",
    "\n",
    "# 建立新的 DB\n",
    "new = 0\n",
    "if new:\n",
    "    cur_Fraud.execute(\"CREATE TABLE results(keyword_type, keyword, frequency)\")\n",
    "    con_Fraud.commit()\n",
    "    con_Fraud.close()"
   ]
  },
  {
   "cell_type": "code",
   "execution_count": 19,
   "id": "f134c512-e741-4f3c-86e9-ce605bd910d5",
   "metadata": {},
   "outputs": [
    {
     "name": "stdout",
     "output_type": "stream",
     "text": [
      "[目前進度] 5286/5286\n",
      "count = 3263274\n"
     ]
    }
   ],
   "source": [
    "# 開始整理\n",
    "from IPython.display import clear_output\n",
    "\n",
    "fraud_key_dicts = dict()\n",
    "count = 0\n",
    "total = len(fraud_jids)\n",
    "for idx, jid in enumerate(fraud_jids):\n",
    "    clear_output(wait=True)\n",
    "    if (idx % 100) == 0 or idx == (total - 1):\n",
    "        print(f'[目前進度] {idx+1}/{total}')\n",
    "        print(f'count = {count}')\n",
    "        \n",
    "    # 從 JudicialAnalysis_RE.db 開始\n",
    "    check_res = con_RE.execute(f\"SELECT jid, date,  keyword_type, keywords FROM results WHERE jid='{jid}'\")\n",
    "    rows = check_res.fetchall()\n",
    "    for row in rows:\n",
    "        date = row[1].strip()\n",
    "        k_type = row[2].strip()\n",
    "        key_words = row[3].strip().split(',')\n",
    "        \n",
    "        fraud_key_dicts.setdefault(k_type, dict())\n",
    "        \n",
    "        for temp_key in key_words:\n",
    "            fraud_key_dicts[k_type].setdefault(temp_key, 0)\n",
    "            fraud_key_dicts[k_type][temp_key] += 1\n",
    "            count += 1\n",
    "            \n",
    "\n",
    "    # 然後 JudicialAnalysis_NER.db 開始\n",
    "    check_res = con_NER.execute(f\"SELECT jid, date,  keyword_type, keywords FROM results WHERE jid='{jid}'\")\n",
    "    rows = check_res.fetchall()\n",
    "    for row in rows:\n",
    "        date = row[1].strip()\n",
    "        k_type = row[2].strip()\n",
    "        key_words = row[3].strip().split(',')\n",
    "        \n",
    "        fraud_key_dicts.setdefault(k_type, dict())\n",
    "        \n",
    "        for temp_key in key_words:\n",
    "            fraud_key_dicts[k_type].setdefault(temp_key, 0)\n",
    "            fraud_key_dicts[k_type][temp_key] += 1\n",
    "            count += 1\n",
    "    \n",
    "    # 然後 JudicialAnalysis_POS.db 開始\n",
    "    check_res = con_POS.execute(f\"SELECT jid, date,  keyword_type, keywords FROM results WHERE jid='{jid}'\")\n",
    "    rows = check_res.fetchall()\n",
    "    for row in rows:\n",
    "        date = row[1].strip()\n",
    "        k_type = row[2].strip()\n",
    "        key_words = row[3].strip().split(',')\n",
    "        \n",
    "        fraud_key_dicts.setdefault(k_type, dict())\n",
    "        \n",
    "        for temp_key in key_words:\n",
    "            fraud_key_dicts[k_type].setdefault(temp_key, 0)\n",
    "            fraud_key_dicts[k_type][temp_key] += 1\n",
    "            count += 1"
   ]
  },
  {
   "cell_type": "code",
   "execution_count": 29,
   "id": "e1526ef1-ba2d-4e1b-bdbe-6cf4b72bc0a0",
   "metadata": {},
   "outputs": [
    {
     "ename": "KeyboardInterrupt",
     "evalue": "",
     "output_type": "error",
     "traceback": [
      "\u001b[1;31m---------------------------------------------------------------------------\u001b[0m",
      "\u001b[1;31mKeyboardInterrupt\u001b[0m                         Traceback (most recent call last)",
      "\u001b[1;32m~\\AppData\\Local\\Temp\\ipykernel_14700\\2296111033.py\u001b[0m in \u001b[0;36m<module>\u001b[1;34m\u001b[0m\n\u001b[0;32m      6\u001b[0m         \u001b[0mto_db_content\u001b[0m \u001b[1;33m=\u001b[0m \u001b[1;34m\"INSERT INTO results VALUES(?, ?, ?)\"\u001b[0m \u001b[1;31m# ? 是一個參數占位符，代表將要插入的值。\u001b[0m\u001b[1;33m\u001b[0m\u001b[1;33m\u001b[0m\u001b[0m\n\u001b[0;32m      7\u001b[0m         \u001b[0mcur_Fraud\u001b[0m\u001b[1;33m.\u001b[0m\u001b[0mexecute\u001b[0m\u001b[1;33m(\u001b[0m\u001b[0mto_db_content\u001b[0m\u001b[1;33m,\u001b[0m \u001b[1;33m(\u001b[0m\u001b[0mk_type\u001b[0m\u001b[1;33m,\u001b[0m \u001b[0mkl\u001b[0m\u001b[1;33m,\u001b[0m \u001b[0mfreq\u001b[0m\u001b[1;33m)\u001b[0m\u001b[1;33m)\u001b[0m\u001b[1;33m\u001b[0m\u001b[1;33m\u001b[0m\u001b[0m\n\u001b[1;32m----> 8\u001b[1;33m         \u001b[0mcon_Fraud\u001b[0m\u001b[1;33m.\u001b[0m\u001b[0mcommit\u001b[0m\u001b[1;33m(\u001b[0m\u001b[1;33m)\u001b[0m\u001b[1;33m\u001b[0m\u001b[1;33m\u001b[0m\u001b[0m\n\u001b[0m",
      "\u001b[1;31mKeyboardInterrupt\u001b[0m: "
     ]
    }
   ],
   "source": [
    "# 將關鍵字存下來\n",
    "# keyword_type, keyword, frequency\n",
    "for k_type, keywords in fraud_key_dicts.items():\n",
    "    keywords_list = sorted(keywords.items(), key=lambda x:x[1], reverse=True)\n",
    "    for (kl, freq) in keywords_list:\n",
    "        to_db_content = \"INSERT INTO results VALUES(?, ?, ?)\" # ? 是一個參數占位符，代表將要插入的值。\n",
    "        cur_Fraud.execute(to_db_content, (k_type, kl, freq))\n",
    "        con_Fraud.commit()\n",
    "con_Fraud.close()"
   ]
  },
  {
   "cell_type": "code",
   "execution_count": null,
   "id": "44f8c283-9a4a-4622-a3a9-3e1982a7e8f9",
   "metadata": {},
   "outputs": [],
   "source": [
    "con_Fraud.close()"
   ]
  },
  {
   "cell_type": "code",
   "execution_count": 30,
   "id": "8844246d-44e9-4282-8bd7-6d378abcf647",
   "metadata": {},
   "outputs": [],
   "source": [
    "# 將關鍵字按類型存成 xlsx\n",
    "import pandas as pd\n",
    "\n",
    "columns = ['關鍵字詞', '出現次數']\n",
    "\n",
    "for k_type, keywords in fraud_key_dicts.items():\n",
    "    rows = []\n",
    "    \n",
    "    keywords_list = sorted(keywords.items(), key=lambda x:x[1], reverse=True)\n",
    "    for (kl, freq) in keywords_list:\n",
    "        row = [kl, freq]\n",
    "        rows.append(row)\n",
    "        \n",
    "    \n",
    "    df = pd.DataFrame(rows, columns=columns)\n",
    "    \n",
    "    xlsx_file = f'fraud({k_type}).xlsx'\n",
    "    df.to_excel(xlsx_file)"
   ]
  },
  {
   "cell_type": "code",
   "execution_count": null,
   "id": "87770ad4-8fb5-40bc-98c4-6288fb17d3d3",
   "metadata": {},
   "outputs": [],
   "source": []
  }
 ],
 "metadata": {
  "kernelspec": {
   "display_name": "Python 3 (ipykernel)",
   "language": "python",
   "name": "python3"
  },
  "language_info": {
   "codemirror_mode": {
    "name": "ipython",
    "version": 3
   },
   "file_extension": ".py",
   "mimetype": "text/x-python",
   "name": "python",
   "nbconvert_exporter": "python",
   "pygments_lexer": "ipython3",
   "version": "3.7.16"
  }
 },
 "nbformat": 4,
 "nbformat_minor": 5
}
